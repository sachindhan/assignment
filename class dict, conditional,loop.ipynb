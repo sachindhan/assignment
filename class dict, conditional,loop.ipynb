{
 "cells": [
  {
   "cell_type": "code",
   "execution_count": 1,
   "id": "b704771f-e74e-45be-878e-323ce6401ad6",
   "metadata": {},
   "outputs": [],
   "source": [
    "#dictonary\n",
    "d = {}"
   ]
  },
  {
   "cell_type": "code",
   "execution_count": 2,
   "id": "493ad5d5-7556-43ec-8a76-7cb9fd968873",
   "metadata": {},
   "outputs": [
    {
     "data": {
      "text/plain": [
       "dict"
      ]
     },
     "execution_count": 2,
     "metadata": {},
     "output_type": "execute_result"
    }
   ],
   "source": [
    "type(d)"
   ]
  },
  {
   "cell_type": "code",
   "execution_count": 3,
   "id": "bf007e44-21f9-49db-95ce-3d9e2362bd66",
   "metadata": {},
   "outputs": [],
   "source": [
    "# key always be unique\n",
    "d1 = {'key' : \"sach\"}"
   ]
  },
  {
   "cell_type": "code",
   "execution_count": 4,
   "id": "a16633f8-61fb-4917-a55c-2059283697d4",
   "metadata": {},
   "outputs": [
    {
     "data": {
      "text/plain": [
       "{'key': 'sach'}"
      ]
     },
     "execution_count": 4,
     "metadata": {},
     "output_type": "execute_result"
    }
   ],
   "source": [
    "d1 "
   ]
  },
  {
   "cell_type": "code",
   "execution_count": 6,
   "id": "14d8effe-728d-4b5e-92d7-3106d49168a7",
   "metadata": {},
   "outputs": [],
   "source": [
    "d2 = {'name' : 'sachin' , 'email' : 'sachin@gmail.com' , 'number' : '9989664'}"
   ]
  },
  {
   "cell_type": "code",
   "execution_count": 7,
   "id": "4e0bf8b2-c34f-474d-bc1b-a5740de8ac7a",
   "metadata": {},
   "outputs": [
    {
     "data": {
      "text/plain": [
       "{'name': 'sachin', 'email': 'sachin@gmail.com', 'number': '9989664'}"
      ]
     },
     "execution_count": 7,
     "metadata": {},
     "output_type": "execute_result"
    }
   ],
   "source": [
    "d2"
   ]
  },
  {
   "cell_type": "code",
   "execution_count": 12,
   "id": "19702bcc-6658-4ae2-b6a1-20aa1c2cc2dd",
   "metadata": {},
   "outputs": [],
   "source": [
    "d3 = {234 : \"sach\" , '_we' : 'kumar' , True : 23564}"
   ]
  },
  {
   "cell_type": "code",
   "execution_count": 13,
   "id": "e9b2c4d1-e5e9-48ea-8217-77d2a2ef9a21",
   "metadata": {},
   "outputs": [
    {
     "data": {
      "text/plain": [
       "{234: 'sach', '_we': 'kumar', True: 23564}"
      ]
     },
     "execution_count": 13,
     "metadata": {},
     "output_type": "execute_result"
    }
   ],
   "source": [
    "d3"
   ]
  },
  {
   "cell_type": "code",
   "execution_count": 14,
   "id": "3e841d1e-8743-40a7-bc69-7aa5ee2a9e92",
   "metadata": {},
   "outputs": [
    {
     "ename": "KeyError",
     "evalue": "'234'",
     "output_type": "error",
     "traceback": [
      "\u001b[0;31m---------------------------------------------------------------------------\u001b[0m",
      "\u001b[0;31mKeyError\u001b[0m                                  Traceback (most recent call last)",
      "Cell \u001b[0;32mIn[14], line 1\u001b[0m\n\u001b[0;32m----> 1\u001b[0m \u001b[43md3\u001b[49m\u001b[43m[\u001b[49m\u001b[38;5;124;43m'\u001b[39;49m\u001b[38;5;124;43m234\u001b[39;49m\u001b[38;5;124;43m'\u001b[39;49m\u001b[43m]\u001b[49m\n",
      "\u001b[0;31mKeyError\u001b[0m: '234'"
     ]
    }
   ],
   "source": [
    "d3['234']"
   ]
  },
  {
   "cell_type": "code",
   "execution_count": 15,
   "id": "6ccf18c6-ba5f-4cd2-a11a-043e11cd9337",
   "metadata": {},
   "outputs": [
    {
     "data": {
      "text/plain": [
       "'sach'"
      ]
     },
     "execution_count": 15,
     "metadata": {},
     "output_type": "execute_result"
    }
   ],
   "source": [
    "d3[234]"
   ]
  },
  {
   "cell_type": "code",
   "execution_count": 16,
   "id": "750ebcf4-e761-4fb0-831f-7011c577a1f5",
   "metadata": {},
   "outputs": [
    {
     "data": {
      "text/plain": [
       "23564"
      ]
     },
     "execution_count": 16,
     "metadata": {},
     "output_type": "execute_result"
    }
   ],
   "source": [
    "d3[True]"
   ]
  },
  {
   "cell_type": "code",
   "execution_count": 17,
   "id": "9c8336d1-0fe4-410e-a81d-11ce0d616ec5",
   "metadata": {},
   "outputs": [
    {
     "ename": "SyntaxError",
     "evalue": "invalid syntax (755768891.py, line 1)",
     "output_type": "error",
     "traceback": [
      "\u001b[0;36m  Cell \u001b[0;32mIn[17], line 1\u001b[0;36m\u001b[0m\n\u001b[0;31m    d3[]\u001b[0m\n\u001b[0m       ^\u001b[0m\n\u001b[0;31mSyntaxError\u001b[0m\u001b[0;31m:\u001b[0m invalid syntax\n"
     ]
    }
   ],
   "source": [
    "d3[]"
   ]
  },
  {
   "cell_type": "code",
   "execution_count": 18,
   "id": "1e7a878c-183f-4852-b5db-cc2a9005e042",
   "metadata": {},
   "outputs": [
    {
     "data": {
      "text/plain": [
       "23564"
      ]
     },
     "execution_count": 18,
     "metadata": {},
     "output_type": "execute_result"
    }
   ],
   "source": [
    "d3[1]"
   ]
  },
  {
   "cell_type": "code",
   "execution_count": 19,
   "id": "3374eabc-406d-4be5-9c4b-7e3c876f57a9",
   "metadata": {},
   "outputs": [],
   "source": [
    "d4 = {'name' : 'sach' , 'mail_id' : 'sachin@gmail.com' , \"name\" : 'sachin'}"
   ]
  },
  {
   "cell_type": "code",
   "execution_count": 20,
   "id": "8f5cf470-3d95-47aa-8e74-be677504e835",
   "metadata": {},
   "outputs": [
    {
     "data": {
      "text/plain": [
       "'sachin'"
      ]
     },
     "execution_count": 20,
     "metadata": {},
     "output_type": "execute_result"
    }
   ],
   "source": [
    "d4['name']"
   ]
  },
  {
   "cell_type": "code",
   "execution_count": 35,
   "id": "86c2c5a4-e19f-4952-b394-7f17ad368419",
   "metadata": {},
   "outputs": [],
   "source": [
    "d7 = {\"company\" : \"pwskills\" , 'course ' : [\"web dev\" , \"data science \" , \"java with dsa\"]}"
   ]
  },
  {
   "cell_type": "code",
   "execution_count": 36,
   "id": "b3cd341a-c872-4dfc-af40-522cc97b8791",
   "metadata": {},
   "outputs": [
    {
     "data": {
      "text/plain": [
       "{'company': 'pwskills',\n",
       " 'course ': ['web dev', 'data science ', 'java with dsa']}"
      ]
     },
     "execution_count": 36,
     "metadata": {},
     "output_type": "execute_result"
    }
   ],
   "source": [
    "d7"
   ]
  },
  {
   "cell_type": "code",
   "execution_count": 37,
   "id": "b61ba92d-4edb-4fba-a289-6d739e857be4",
   "metadata": {},
   "outputs": [
    {
     "ename": "KeyError",
     "evalue": "'course'",
     "output_type": "error",
     "traceback": [
      "\u001b[0;31m---------------------------------------------------------------------------\u001b[0m",
      "\u001b[0;31mKeyError\u001b[0m                                  Traceback (most recent call last)",
      "Cell \u001b[0;32mIn[37], line 1\u001b[0m\n\u001b[0;32m----> 1\u001b[0m \u001b[43md7\u001b[49m\u001b[43m[\u001b[49m\u001b[38;5;124;43m'\u001b[39;49m\u001b[38;5;124;43mcourse\u001b[39;49m\u001b[38;5;124;43m'\u001b[39;49m\u001b[43m]\u001b[49m\n",
      "\u001b[0;31mKeyError\u001b[0m: 'course'"
     ]
    }
   ],
   "source": [
    "d7['course']"
   ]
  },
  {
   "cell_type": "code",
   "execution_count": 40,
   "id": "36bbc3d6-8616-479f-88f4-5b7f1d61e1cd",
   "metadata": {},
   "outputs": [],
   "source": [
    "d6 = {\"number\" : [ 2,354,64,2,35] , \"assgnment\" : ( 1,2,3,4,5) , \"launch_date\" : {28,12,14} ,\"class_timinig\" : {\"web_dev\" : 8 , \"data_science\": 8 , \"java with dsa\" : 7 }}                                   "
   ]
  },
  {
   "cell_type": "code",
   "execution_count": 41,
   "id": "d14124fb-dd44-4899-9e44-d7d468b77f63",
   "metadata": {},
   "outputs": [
    {
     "data": {
      "text/plain": [
       "{'number': [2, 354, 64, 2, 35],\n",
       " 'assgnment': (1, 2, 3, 4, 5),\n",
       " 'launch_date': {12, 14, 28},\n",
       " 'class_timinig': {'web_dev': 8, 'data_science': 8, 'java with dsa': 7}}"
      ]
     },
     "execution_count": 41,
     "metadata": {},
     "output_type": "execute_result"
    }
   ],
   "source": [
    "d6"
   ]
  },
  {
   "cell_type": "code",
   "execution_count": 43,
   "id": "3391a704-0957-4347-9f99-40e6992dbf83",
   "metadata": {},
   "outputs": [
    {
     "data": {
      "text/plain": [
       "{12, 14, 28}"
      ]
     },
     "execution_count": 43,
     "metadata": {},
     "output_type": "execute_result"
    }
   ],
   "source": [
    "d6['launch_date']"
   ]
  },
  {
   "cell_type": "code",
   "execution_count": 44,
   "id": "d8271865-abec-4426-9beb-d4f162b37b7a",
   "metadata": {},
   "outputs": [
    {
     "data": {
      "text/plain": [
       "{'number': [2, 354, 64, 2, 35],\n",
       " 'assgnment': (1, 2, 3, 4, 5),\n",
       " 'launch_date': {12, 14, 28},\n",
       " 'class_timinig': {'web_dev': 8, 'data_science': 8, 'java with dsa': 7}}"
      ]
     },
     "execution_count": 44,
     "metadata": {},
     "output_type": "execute_result"
    }
   ],
   "source": [
    "d6"
   ]
  },
  {
   "cell_type": "code",
   "execution_count": 47,
   "id": "394d90ee-92a6-4403-8d29-1d2282cb8ea9",
   "metadata": {},
   "outputs": [],
   "source": [
    "#add\n",
    "d6['mentor'] = [\"sudhanshu\" , \"krish\" , \"anurag\" , \"hayder\"]"
   ]
  },
  {
   "cell_type": "code",
   "execution_count": 48,
   "id": "ab5df848-a4e3-4ebc-8527-361d5b66e23f",
   "metadata": {},
   "outputs": [
    {
     "data": {
      "text/plain": [
       "{'number': [2, 354, 64, 2, 35],\n",
       " 'assgnment': (1, 2, 3, 4, 5),\n",
       " 'launch_date': {12, 14, 28},\n",
       " 'class_timinig': {'web_dev': 8, 'data_science': 8, 'java with dsa': 7},\n",
       " 'mentor': ['sudhanshu', 'krish', 'anurag', 'hayder']}"
      ]
     },
     "execution_count": 48,
     "metadata": {},
     "output_type": "execute_result"
    }
   ],
   "source": [
    "d6"
   ]
  },
  {
   "cell_type": "code",
   "execution_count": 51,
   "id": "b109c873-557b-4805-b657-3945bd480e7c",
   "metadata": {},
   "outputs": [
    {
     "ename": "KeyError",
     "evalue": "'number'",
     "output_type": "error",
     "traceback": [
      "\u001b[0;31m---------------------------------------------------------------------------\u001b[0m",
      "\u001b[0;31mKeyError\u001b[0m                                  Traceback (most recent call last)",
      "Cell \u001b[0;32mIn[51], line 2\u001b[0m\n\u001b[1;32m      1\u001b[0m \u001b[38;5;66;03m#delete\u001b[39;00m\n\u001b[0;32m----> 2\u001b[0m \u001b[38;5;28;01mdel\u001b[39;00m d6[\u001b[38;5;124m'\u001b[39m\u001b[38;5;124mnumber\u001b[39m\u001b[38;5;124m'\u001b[39m] \n",
      "\u001b[0;31mKeyError\u001b[0m: 'number'"
     ]
    }
   ],
   "source": [
    "#delete\n",
    "del d6['number'] "
   ]
  },
  {
   "cell_type": "code",
   "execution_count": 52,
   "id": "065e63b4-f35a-4ba5-ad3e-c806d6a3271f",
   "metadata": {},
   "outputs": [
    {
     "data": {
      "text/plain": [
       "{'assgnment': (1, 2, 3, 4, 5),\n",
       " 'launch_date': {12, 14, 28},\n",
       " 'class_timinig': {'web_dev': 8, 'data_science': 8, 'java with dsa': 7},\n",
       " 'mentor': ['sudhanshu', 'krish', 'anurag', 'hayder']}"
      ]
     },
     "execution_count": 52,
     "metadata": {},
     "output_type": "execute_result"
    }
   ],
   "source": [
    "d6"
   ]
  },
  {
   "cell_type": "code",
   "execution_count": 54,
   "id": "9dbd90fb-be5a-41bb-9ef5-2a74c862ccf5",
   "metadata": {},
   "outputs": [
    {
     "data": {
      "text/plain": [
       "['assgnment', 'launch_date', 'class_timinig', 'mentor']"
      ]
     },
     "execution_count": 54,
     "metadata": {},
     "output_type": "execute_result"
    }
   ],
   "source": [
    "list(d6.keys())"
   ]
  },
  {
   "cell_type": "code",
   "execution_count": 56,
   "id": "e1a5a7fd-700d-4b18-a1b7-2cc3ec2b4ab0",
   "metadata": {},
   "outputs": [
    {
     "data": {
      "text/plain": [
       "[(1, 2, 3, 4, 5),\n",
       " {12, 14, 28},\n",
       " {'web_dev': 8, 'data_science': 8, 'java with dsa': 7},\n",
       " ['sudhanshu', 'krish', 'anurag', 'hayder']]"
      ]
     },
     "execution_count": 56,
     "metadata": {},
     "output_type": "execute_result"
    }
   ],
   "source": [
    "list(d6.values())"
   ]
  },
  {
   "cell_type": "code",
   "execution_count": 58,
   "id": "c45de0b2-b4f1-4a0b-b4f3-069374141ddd",
   "metadata": {},
   "outputs": [
    {
     "data": {
      "text/plain": [
       "[('assgnment', (1, 2, 3, 4, 5)),\n",
       " ('launch_date', {12, 14, 28}),\n",
       " ('class_timinig', {'web_dev': 8, 'data_science': 8, 'java with dsa': 7}),\n",
       " ('mentor', ['sudhanshu', 'krish', 'anurag', 'hayder'])]"
      ]
     },
     "execution_count": 58,
     "metadata": {},
     "output_type": "execute_result"
    }
   ],
   "source": [
    "list(d6.items())"
   ]
  },
  {
   "cell_type": "code",
   "execution_count": 60,
   "id": "7febfd35-725e-467b-b45b-146a92acecbe",
   "metadata": {},
   "outputs": [
    {
     "ename": "TypeError",
     "evalue": "pop expected at least 1 argument, got 0",
     "output_type": "error",
     "traceback": [
      "\u001b[0;31m---------------------------------------------------------------------------\u001b[0m",
      "\u001b[0;31mTypeError\u001b[0m                                 Traceback (most recent call last)",
      "Cell \u001b[0;32mIn[60], line 1\u001b[0m\n\u001b[0;32m----> 1\u001b[0m \u001b[43md6\u001b[49m\u001b[38;5;241;43m.\u001b[39;49m\u001b[43mpop\u001b[49m\u001b[43m(\u001b[49m\u001b[43m)\u001b[49m\n",
      "\u001b[0;31mTypeError\u001b[0m: pop expected at least 1 argument, got 0"
     ]
    }
   ],
   "source": [
    "d6.pop()"
   ]
  },
  {
   "cell_type": "code",
   "execution_count": 61,
   "id": "24210c29-3708-46dd-a792-96e0078e214f",
   "metadata": {},
   "outputs": [
    {
     "ename": "TypeError",
     "evalue": "pop expected at least 1 argument, got 0",
     "output_type": "error",
     "traceback": [
      "\u001b[0;31m---------------------------------------------------------------------------\u001b[0m",
      "\u001b[0;31mTypeError\u001b[0m                                 Traceback (most recent call last)",
      "Cell \u001b[0;32mIn[61], line 1\u001b[0m\n\u001b[0;32m----> 1\u001b[0m \u001b[43md6\u001b[49m\u001b[38;5;241;43m.\u001b[39;49m\u001b[43mpop\u001b[49m\u001b[43m(\u001b[49m\u001b[43m)\u001b[49m\n",
      "\u001b[0;31mTypeError\u001b[0m: pop expected at least 1 argument, got 0"
     ]
    }
   ],
   "source": [
    "d6.pop()"
   ]
  },
  {
   "cell_type": "code",
   "execution_count": 63,
   "id": "37793585-b892-44d6-953f-7d9cb191beec",
   "metadata": {},
   "outputs": [
    {
     "ename": "KeyError",
     "evalue": "'assignment'",
     "output_type": "error",
     "traceback": [
      "\u001b[0;31m---------------------------------------------------------------------------\u001b[0m",
      "\u001b[0;31mKeyError\u001b[0m                                  Traceback (most recent call last)",
      "Cell \u001b[0;32mIn[63], line 1\u001b[0m\n\u001b[0;32m----> 1\u001b[0m \u001b[43md6\u001b[49m\u001b[38;5;241;43m.\u001b[39;49m\u001b[43mpop\u001b[49m\u001b[43m(\u001b[49m\u001b[38;5;124;43m\"\u001b[39;49m\u001b[38;5;124;43massignment\u001b[39;49m\u001b[38;5;124;43m\"\u001b[39;49m\u001b[43m)\u001b[49m\n",
      "\u001b[0;31mKeyError\u001b[0m: 'assignment'"
     ]
    }
   ],
   "source": [
    "d6.pop(\"assignment\")"
   ]
  },
  {
   "cell_type": "code",
   "execution_count": 64,
   "id": "15bbd551-d562-4ce8-8618-52861d669ee5",
   "metadata": {},
   "outputs": [
    {
     "data": {
      "text/plain": [
       "{'assgnment': (1, 2, 3, 4, 5),\n",
       " 'launch_date': {12, 14, 28},\n",
       " 'class_timinig': {'web_dev': 8, 'data_science': 8, 'java with dsa': 7},\n",
       " 'mentor': ['sudhanshu', 'krish', 'anurag', 'hayder']}"
      ]
     },
     "execution_count": 64,
     "metadata": {},
     "output_type": "execute_result"
    }
   ],
   "source": [
    "d6"
   ]
  },
  {
   "cell_type": "code",
   "execution_count": 65,
   "id": "2620f2b7-9c79-44cb-a8e9-7e0bb11aee60",
   "metadata": {},
   "outputs": [
    {
     "data": {
      "text/plain": [
       "{12, 14, 28}"
      ]
     },
     "execution_count": 65,
     "metadata": {},
     "output_type": "execute_result"
    }
   ],
   "source": [
    "d6.pop('launch_date')"
   ]
  },
  {
   "cell_type": "code",
   "execution_count": 66,
   "id": "9f40211d-204a-48b4-81f6-400cd3ba4cba",
   "metadata": {},
   "outputs": [
    {
     "data": {
      "text/plain": [
       "{'assgnment': (1, 2, 3, 4, 5),\n",
       " 'class_timinig': {'web_dev': 8, 'data_science': 8, 'java with dsa': 7},\n",
       " 'mentor': ['sudhanshu', 'krish', 'anurag', 'hayder']}"
      ]
     },
     "execution_count": 66,
     "metadata": {},
     "output_type": "execute_result"
    }
   ],
   "source": [
    "d6"
   ]
  },
  {
   "cell_type": "code",
   "execution_count": 79,
   "id": "2fb98488-9007-407f-846f-3b5063a8731b",
   "metadata": {},
   "outputs": [
    {
     "name": "stdin",
     "output_type": "stream",
     "text": [
      "enter your marks 50\n"
     ]
    },
    {
     "ename": "TypeError",
     "evalue": "'>=' not supported between instances of 'str' and 'int'",
     "output_type": "error",
     "traceback": [
      "\u001b[0;31m---------------------------------------------------------------------------\u001b[0m",
      "\u001b[0;31mTypeError\u001b[0m                                 Traceback (most recent call last)",
      "Cell \u001b[0;32mIn[79], line 2\u001b[0m\n\u001b[1;32m      1\u001b[0m marks \u001b[38;5;241m=\u001b[39m \u001b[38;5;28minput\u001b[39m(\u001b[38;5;124m\"\u001b[39m\u001b[38;5;124menter your marks\u001b[39m\u001b[38;5;124m\"\u001b[39m)\n\u001b[0;32m----> 2\u001b[0m \u001b[38;5;28;01mif\u001b[39;00m \u001b[43mmarks\u001b[49m\u001b[43m \u001b[49m\u001b[38;5;241;43m>\u001b[39;49m\u001b[38;5;241;43m=\u001b[39;49m\u001b[43m \u001b[49m\u001b[38;5;241;43m80\u001b[39;49m:\n\u001b[1;32m      3\u001b[0m     \u001b[38;5;28mprint\u001b[39m(\u001b[38;5;124m\"\u001b[39m\u001b[38;5;124myou will be a part of A0 batch\u001b[39m\u001b[38;5;124m\"\u001b[39m)\n\u001b[1;32m      4\u001b[0m \u001b[38;5;28;01melif\u001b[39;00m marks \u001b[38;5;241m>\u001b[39m\u001b[38;5;241m=\u001b[39m\u001b[38;5;241m60\u001b[39m \u001b[38;5;129;01mand\u001b[39;00m marks\u001b[38;5;241m<\u001b[39m \u001b[38;5;241m80\u001b[39m:\n",
      "\u001b[0;31mTypeError\u001b[0m: '>=' not supported between instances of 'str' and 'int'"
     ]
    }
   ],
   "source": [
    "marks = input(\"enter your marks\")\n",
    "if marks >= 80:\n",
    "    print(\"you will be a part of A0 batch\")\n",
    "elif marks >=60 and marks< 80:\n",
    "    print(\"you will be a part of a1 batch\")\n",
    "elif marks >=40 and marks < 60:\n",
    "    print(\"you will be a part of a2 batch\")\n",
    "else :\n",
    "    print(\"you will be a part of a3 batch\")\n",
    "    \n",
    "    "
   ]
  },
  {
   "cell_type": "code",
   "execution_count": 80,
   "id": "a431eee4-4d5a-44c4-b2b8-6177046cb1aa",
   "metadata": {},
   "outputs": [
    {
     "data": {
      "text/plain": [
       "False"
      ]
     },
     "execution_count": 80,
     "metadata": {},
     "output_type": "execute_result"
    }
   ],
   "source": [
    "10 >= 80\n"
   ]
  },
  {
   "cell_type": "code",
   "execution_count": 91,
   "id": "01143ee3-51c4-4c33-88bf-bdfa409a6b2d",
   "metadata": {},
   "outputs": [
    {
     "name": "stdin",
     "output_type": "stream",
     "text": [
      "enter your marks -90\n"
     ]
    },
    {
     "name": "stdout",
     "output_type": "stream",
     "text": [
      "you will be a part of a3 batch\n"
     ]
    }
   ],
   "source": [
    "marks = int(input(\"enter your marks\"))\n",
    "if marks >= 80:\n",
    "    print(\"you will be a part of A0 batch\")\n",
    "elif marks >=60 and marks< 80:\n",
    "    print(\"you will be a part of a1 batch\")\n",
    "elif marks >=40 and marks < 60:\n",
    "    print(\"you will be a part of a2 batch\")\n",
    "else :\n",
    "    print(\"you will be a part of a3 batch\")"
   ]
  },
  {
   "cell_type": "code",
   "execution_count": 86,
   "id": "95bbfe14-0e53-4c34-8968-216104c9d41f",
   "metadata": {},
   "outputs": [
    {
     "name": "stdin",
     "output_type": "stream",
     "text": [
      "enter your marks 45\n"
     ]
    }
   ],
   "source": [
    "marks =float( input(\"enter your marks\"))"
   ]
  },
  {
   "cell_type": "code",
   "execution_count": 87,
   "id": "0171f9e0-a5c8-4a34-bff8-a028371ccde4",
   "metadata": {},
   "outputs": [
    {
     "data": {
      "text/plain": [
       "45"
      ]
     },
     "execution_count": 87,
     "metadata": {},
     "output_type": "execute_result"
    }
   ],
   "source": [
    "marks"
   ]
  },
  {
   "cell_type": "code",
   "execution_count": 88,
   "id": "f69ede33-1816-4937-9287-8fc03043122a",
   "metadata": {},
   "outputs": [
    {
     "data": {
      "text/plain": [
       "int"
      ]
     },
     "execution_count": 88,
     "metadata": {},
     "output_type": "execute_result"
    }
   ],
   "source": [
    "type(marks)"
   ]
  },
  {
   "cell_type": "code",
   "execution_count": 102,
   "id": "52cc0742-46cd-4de8-9ee2-e1df3e8f146d",
   "metadata": {},
   "outputs": [
    {
     "name": "stdin",
     "output_type": "stream",
     "text": [
      "enter price 1500\n"
     ]
    },
    {
     "name": "stdout",
     "output_type": "stream",
     "text": [
      "i will not purchase\n",
      "its ok\n"
     ]
    }
   ],
   "source": [
    "price = int(input(\"enter price\"))\n",
    "if price > 1000:\n",
    "    print(\"i will not purchase\")\n",
    "    if price >5000:\n",
    "        print(\"price is too much\")\n",
    "    elif price < 2000:\n",
    "        print(\"its ok\")\n",
    "elif price < 1000:\n",
    "    print(\"i will purchase\")\n",
    "    print(\"i will not purchase\")\n",
    "else :\n",
    "    print(\" i will purchase\")"
   ]
  },
  {
   "cell_type": "code",
   "execution_count": 103,
   "id": "ed3d375c-17a2-44d8-b439-1cfd948022ad",
   "metadata": {},
   "outputs": [],
   "source": [
    "l = [1,2,3,3,4,5,6,7,8,9] "
   ]
  },
  {
   "cell_type": "code",
   "execution_count": 104,
   "id": "79df7c45-eb58-4795-af5e-5ba8d59c06eb",
   "metadata": {},
   "outputs": [
    {
     "ename": "NameError",
     "evalue": "name 'i' is not defined",
     "output_type": "error",
     "traceback": [
      "\u001b[0;31m---------------------------------------------------------------------------\u001b[0m",
      "\u001b[0;31mNameError\u001b[0m                                 Traceback (most recent call last)",
      "Cell \u001b[0;32mIn[104], line 1\u001b[0m\n\u001b[0;32m----> 1\u001b[0m \u001b[43mi\u001b[49m[\u001b[38;5;241m0\u001b[39m]\u001b[38;5;241m+\u001b[39m\u001b[38;5;241m1\u001b[39m\n",
      "\u001b[0;31mNameError\u001b[0m: name 'i' is not defined"
     ]
    }
   ],
   "source": [
    "i[0]+1"
   ]
  },
  {
   "cell_type": "code",
   "execution_count": 105,
   "id": "8ded062b-c0d1-477b-8529-7a1496749852",
   "metadata": {},
   "outputs": [
    {
     "data": {
      "text/plain": [
       "2"
      ]
     },
     "execution_count": 105,
     "metadata": {},
     "output_type": "execute_result"
    }
   ],
   "source": [
    "l[0]+1"
   ]
  },
  {
   "cell_type": "code",
   "execution_count": 106,
   "id": "55a7167d-b44f-44c5-ad42-2d3b44c84803",
   "metadata": {},
   "outputs": [
    {
     "ename": "NameError",
     "evalue": "name 'l1' is not defined",
     "output_type": "error",
     "traceback": [
      "\u001b[0;31m---------------------------------------------------------------------------\u001b[0m",
      "\u001b[0;31mNameError\u001b[0m                                 Traceback (most recent call last)",
      "Cell \u001b[0;32mIn[106], line 1\u001b[0m\n\u001b[0;32m----> 1\u001b[0m \u001b[43ml1\u001b[49m\u001b[38;5;241m.\u001b[39mappend(l[\u001b[38;5;241m0\u001b[39m]\u001b[38;5;241m+\u001b[39m\u001b[38;5;241m1\u001b[39m)\n",
      "\u001b[0;31mNameError\u001b[0m: name 'l1' is not defined"
     ]
    }
   ],
   "source": [
    "l1.append(l[0]+1)"
   ]
  },
  {
   "cell_type": "code",
   "execution_count": 107,
   "id": "ea5cdd4e-f5d7-47c7-9d5d-ecea3d3561b9",
   "metadata": {},
   "outputs": [],
   "source": [
    "l1 = []"
   ]
  },
  {
   "cell_type": "code",
   "execution_count": 108,
   "id": "ca0ff0c7-bb10-487b-bc88-69ba38156acf",
   "metadata": {},
   "outputs": [],
   "source": [
    "l1.append(l[0]+1)"
   ]
  },
  {
   "cell_type": "code",
   "execution_count": 109,
   "id": "1e459b9a-7679-4e23-8886-5c7a83c96478",
   "metadata": {},
   "outputs": [
    {
     "data": {
      "text/plain": [
       "[2]"
      ]
     },
     "execution_count": 109,
     "metadata": {},
     "output_type": "execute_result"
    }
   ],
   "source": [
    "l1"
   ]
  },
  {
   "cell_type": "code",
   "execution_count": 110,
   "id": "0fe60b7a-1fc0-4c72-9a0b-979131d8b583",
   "metadata": {},
   "outputs": [
    {
     "data": {
      "text/plain": [
       "[1, 2, 3, 3, 4, 5, 6, 7, 8, 9]"
      ]
     },
     "execution_count": 110,
     "metadata": {},
     "output_type": "execute_result"
    }
   ],
   "source": [
    "l"
   ]
  },
  {
   "cell_type": "code",
   "execution_count": 115,
   "id": "db2f9f9c-1b1b-4427-9c27-81afd7d4d02d",
   "metadata": {},
   "outputs": [
    {
     "name": "stdout",
     "output_type": "stream",
     "text": [
      "2\n",
      "3\n",
      "4\n",
      "4\n",
      "5\n",
      "6\n",
      "7\n",
      "8\n",
      "9\n",
      "10\n"
     ]
    },
    {
     "data": {
      "text/plain": [
       "[2, 3, 4, 4, 5, 6, 7, 8, 9, 10]"
      ]
     },
     "execution_count": 115,
     "metadata": {},
     "output_type": "execute_result"
    }
   ],
   "source": [
    "l1 = []\n",
    "for i in l :\n",
    "    print(i+1)\n",
    "    l1.append(i+1)\n",
    "l1    "
   ]
  },
  {
   "cell_type": "code",
   "execution_count": 116,
   "id": "189e8f7d-871c-4a47-9147-e9b75e2249ad",
   "metadata": {},
   "outputs": [],
   "source": [
    "l = [\"sach\" , \"kumar\" , \" pwskills\" , \"course\"]"
   ]
  },
  {
   "cell_type": "code",
   "execution_count": 120,
   "id": "040bb13a-6206-4ed7-84b7-caf9b810b5a0",
   "metadata": {},
   "outputs": [
    {
     "name": "stdout",
     "output_type": "stream",
     "text": [
      "sach\n",
      "kumar\n",
      " pwskills\n",
      "course\n"
     ]
    }
   ],
   "source": [
    "l1 = []\n",
    "for i in l:\n",
    "    print(i)\n",
    "    l1.append(i.upper())\n",
    "   "
   ]
  },
  {
   "cell_type": "code",
   "execution_count": 121,
   "id": "ae207f94-acb5-4cda-9973-d1bbea81212a",
   "metadata": {},
   "outputs": [
    {
     "data": {
      "text/plain": [
       "['SACH', 'KUMAR', ' PWSKILLS', 'COURSE']"
      ]
     },
     "execution_count": 121,
     "metadata": {},
     "output_type": "execute_result"
    }
   ],
   "source": [
    "l1"
   ]
  },
  {
   "cell_type": "code",
   "execution_count": 122,
   "id": "b72fc644-5912-4496-befe-f5cc80550d3e",
   "metadata": {},
   "outputs": [],
   "source": [
    "l = [1,2,3,4,4,\"sach\" , \"kumar\" , 324,34.456, \"abc\"]"
   ]
  },
  {
   "cell_type": "code",
   "execution_count": 123,
   "id": "fddae62f-7fc6-4af3-9ecc-66823e64a03c",
   "metadata": {},
   "outputs": [],
   "source": [
    "l1_num = []\n",
    "l2_str = []\n",
    "for i in l :\n",
    "    if type(i) == int or type(i) == float :\n",
    "        l1_num.append(i)\n",
    "    else :\n",
    "        l2_str.append(i)\n",
    "    \n"
   ]
  },
  {
   "cell_type": "code",
   "execution_count": 124,
   "id": "a5139faa-458b-4265-8edd-c9389a51031c",
   "metadata": {},
   "outputs": [
    {
     "data": {
      "text/plain": [
       "[1, 2, 3, 4, 4, 324, 34.456]"
      ]
     },
     "execution_count": 124,
     "metadata": {},
     "output_type": "execute_result"
    }
   ],
   "source": [
    "l1_num"
   ]
  },
  {
   "cell_type": "code",
   "execution_count": 125,
   "id": "2e2c002f-4d1c-433d-b983-585dfa353cc8",
   "metadata": {},
   "outputs": [
    {
     "data": {
      "text/plain": [
       "['sach', 'kumar', 'abc']"
      ]
     },
     "execution_count": 125,
     "metadata": {},
     "output_type": "execute_result"
    }
   ],
   "source": [
    "l2_str"
   ]
  },
  {
   "cell_type": "code",
   "execution_count": null,
   "id": "ea6076a8-cb7d-4fdb-ab40-9705e72e284c",
   "metadata": {},
   "outputs": [],
   "source": []
  }
 ],
 "metadata": {
  "kernelspec": {
   "display_name": "Python 3 (ipykernel)",
   "language": "python",
   "name": "python3"
  },
  "language_info": {
   "codemirror_mode": {
    "name": "ipython",
    "version": 3
   },
   "file_extension": ".py",
   "mimetype": "text/x-python",
   "name": "python",
   "nbconvert_exporter": "python",
   "pygments_lexer": "ipython3",
   "version": "3.10.8"
  }
 },
 "nbformat": 4,
 "nbformat_minor": 5
}
